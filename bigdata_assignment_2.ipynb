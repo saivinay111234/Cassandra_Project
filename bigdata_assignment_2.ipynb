{
 "cells": [
  {
   "cell_type": "code",
   "execution_count": 2,
   "metadata": {},
   "outputs": [],
   "source": [
    "import pandas as pd\n",
    "from cassandra.cluster import Cluster"
   ]
  },
  {
   "cell_type": "code",
   "execution_count": null,
   "metadata": {},
   "outputs": [],
   "source": [
    "clstr=Cluster()\n",
    "session=clstr.connect()"
   ]
  },
  {
   "cell_type": "code",
   "execution_count": 4,
   "metadata": {},
   "outputs": [
    {
     "data": {
      "text/plain": [
       "<cassandra.cluster.ResultSet at 0x7f11453ebe50>"
      ]
     },
     "execution_count": 4,
     "metadata": {},
     "output_type": "execute_result"
    }
   ],
   "source": [
    "session.execute(\"DROP KEYSPACE IF EXISTS m14\")"
   ]
  },
  {
   "cell_type": "code",
   "execution_count": 5,
   "metadata": {},
   "outputs": [
    {
     "name": "stdout",
     "output_type": "stream",
     "text": [
      "system\n",
      "system_auth\n",
      "system_distributed\n",
      "system_schema\n",
      "system_traces\n",
      "system_views\n",
      "system_virtual_schema\n"
     ]
    }
   ],
   "source": [
    "# Check keyspaces\n",
    "rows=session.execute(\"desc keyspaces\")\n",
    "for row in rows:\n",
    "    print(f\"{row[0]}\")"
   ]
  },
  {
   "cell_type": "code",
   "execution_count": 7,
   "metadata": {},
   "outputs": [
    {
     "data": {
      "text/plain": [
       "<cassandra.cluster.ResultSet at 0x7f114465f1d0>"
      ]
     },
     "execution_count": 7,
     "metadata": {},
     "output_type": "execute_result"
    }
   ],
   "source": [
    "session.execute(\"CREATE KEYSPACE IF NOT EXISTS m14 WITH REPLICATION = {'class':'SimpleStrategy', 'replication_factor':2}\")"
   ]
  },
  {
   "cell_type": "code",
   "execution_count": 8,
   "metadata": {},
   "outputs": [
    {
     "name": "stdout",
     "output_type": "stream",
     "text": [
      "m14\n",
      "system\n",
      "system_auth\n",
      "system_distributed\n",
      "system_schema\n",
      "system_traces\n",
      "system_views\n",
      "system_virtual_schema\n"
     ]
    }
   ],
   "source": [
    "# Check keyspaces\n",
    "rows=session.execute(\"desc keyspaces\")\n",
    "for row in rows:\n",
    "    print(f\"{row[0]}\")"
   ]
  },
  {
   "cell_type": "code",
   "execution_count": 9,
   "metadata": {},
   "outputs": [
    {
     "data": {
      "text/plain": [
       "<cassandra.cluster.ResultSet at 0x7f114466b450>"
      ]
     },
     "execution_count": 9,
     "metadata": {},
     "output_type": "execute_result"
    }
   ],
   "source": [
    "session.execute(\"\"\"\n",
    "CREATE TABLE IF NOT EXISTS m14.inventory ( \n",
    "    SKU INT, \n",
    "    Name TEXT, \n",
    "    Description TEXT, \n",
    "    Warehouse_Num INT,\n",
    "    PRIMARY KEY(SKU)\n",
    ");\n",
    "\"\"\")"
   ]
  },
  {
   "cell_type": "code",
   "execution_count": 10,
   "metadata": {},
   "outputs": [
    {
     "name": "stdout",
     "output_type": "stream",
     "text": [
      "   SKU       Name                                      Description  \\\n",
      "0    1      Vinay              Samsung new model is in our storage   \n",
      "1    2      Vijay            IPHONE will be available in next week   \n",
      "2    3     Rakesh               There is limited stock for Oneplus   \n",
      "3    4     Akshay        Iphone 14 is recommended to buy this week   \n",
      "4    5  Praharsha  Realme needs to be updated to attract customers   \n",
      "\n",
      "   Warehouse_Num  \n",
      "0             10  \n",
      "1             20  \n",
      "2             10  \n",
      "3             30  \n",
      "4             20  \n"
     ]
    }
   ],
   "source": [
    "# Insert records\n",
    "\n",
    "# Create a dictionary with your data\n",
    "data = {\n",
    "    'SKU': [1, 2, 3, 4, 5],\n",
    "    'Name': ['Vinay', 'Vijay', 'Rakesh', 'Akshay', 'Praharsha'],\n",
    "    'Description': ['Samsung new model is in our storage', 'IPHONE will be available in next week', 'There is limited stock for Oneplus', 'Iphone 14 is recommended to buy this week', 'Realme needs to be updated to attract customers'],\n",
    "    'Warehouse_Num': [10, 20, 10, 30, 20]\n",
    "}\n",
    "\n",
    "# Create a DataFrame from the dictionary\n",
    "df = pd.DataFrame(data)\n",
    "\n",
    "# Print the DataFrame\n",
    "print(df)\n"
   ]
  },
  {
   "cell_type": "code",
   "execution_count": 11,
   "metadata": {},
   "outputs": [
    {
     "name": "stdout",
     "output_type": "stream",
     "text": [
      "SKU = 1, Name = Vinay, Description = Samsung new model is in our storage, Warehouse_Num = 10\n",
      "SKU = 2, Name = Vijay, Description = IPHONE will be available in next week, Warehouse_Num = 20\n",
      "SKU = 3, Name = Rakesh, Description = There is limited stock for Oneplus, Warehouse_Num = 10\n",
      "SKU = 4, Name = Akshay, Description = Iphone 14 is recommended to buy this week, Warehouse_Num = 30\n",
      "SKU = 5, Name = Praharsha, Description = Realme needs to be updated to attract customers, Warehouse_Num = 20\n"
     ]
    }
   ],
   "source": [
    "for index, row in df.iterrows():\n",
    "    print(f\"SKU = {row.SKU}, Name = {row.Name}, Description = {row.Description}, Warehouse_Num = {row.Warehouse_Num}\")\n"
   ]
  },
  {
   "cell_type": "code",
   "execution_count": 14,
   "metadata": {},
   "outputs": [
    {
     "name": "stdout",
     "output_type": "stream",
     "text": [
      "\n",
      "        INSERT INTO m14.inventory (SKU, Name, Description, Warehouse_Num)     \n",
      "        VALUES (1, Vinay, Samsung new model is in our storage, 10);\n",
      "        \n",
      "\n",
      "        INSERT INTO m14.inventory (SKU, Name, Description, Warehouse_Num)     \n",
      "        VALUES (2, Vijay, IPHONE will be available in next week, 20);\n",
      "        \n",
      "\n",
      "        INSERT INTO m14.inventory (SKU, Name, Description, Warehouse_Num)     \n",
      "        VALUES (3, Rakesh, There is limited stock for Oneplus, 10);\n",
      "        \n",
      "\n",
      "        INSERT INTO m14.inventory (SKU, Name, Description, Warehouse_Num)     \n",
      "        VALUES (4, Akshay, Iphone 14 is recommended to buy this week, 30);\n",
      "        \n",
      "\n",
      "        INSERT INTO m14.inventory (SKU, Name, Description, Warehouse_Num)     \n",
      "        VALUES (5, Praharsha, Realme needs to be updated to attract customers, 20);\n",
      "        \n"
     ]
    }
   ],
   "source": [
    "# Insert records in the database inventory\n",
    "\n",
    "for index, row in df.iterrows():\n",
    "    print(f\"\"\"\n",
    "        INSERT INTO m14.inventory (SKU, Name, Description, Warehouse_Num)     \n",
    "        VALUES ({row[0]}, {row[1]}, {row[2]}, {row[3]});\n",
    "        \"\"\"\n",
    "       )\n",
    "    session.execute(f\"\"\"\n",
    "        INSERT INTO m14.inventory (SKU, Name, Description, Warehouse_Num)     \n",
    "        VALUES ({row[0]}, '{row[1]}', '{row[2]}', {row[3]});\n",
    "        \"\"\"\n",
    "       )\n"
   ]
  },
  {
   "cell_type": "code",
   "execution_count": 15,
   "metadata": {},
   "outputs": [
    {
     "data": {
      "text/plain": [
       "<cassandra.cluster.ResultSet at 0x7f1144fd34d0>"
      ]
     },
     "execution_count": 15,
     "metadata": {},
     "output_type": "execute_result"
    }
   ],
   "source": [
    "# Create a Index for the Warehouse_num\n",
    "session.execute(\"\"\"CREATE INDEX ON m14.inventory(Warehouse_Num);\"\"\")"
   ]
  },
  {
   "cell_type": "code",
   "execution_count": 16,
   "metadata": {},
   "outputs": [
    {
     "name": "stdout",
     "output_type": "stream",
     "text": [
      "1, Vinay, Samsung new model is in our storage\n",
      "3, Rakesh, There is limited stock for Oneplus\n"
     ]
    }
   ],
   "source": [
    "# query the records for warehosue_num=10\n",
    "rows = session.execute(\"select (SKU, Name, Description) from m14.inventory where Warehouse_Num=10 ALLOW FILTERING\")\n",
    "for row in rows:\n",
    "    print(f\"{row[0][0]}, {row[0][1]}, {row[0][2]}\")"
   ]
  }
 ],
 "metadata": {
  "kernelspec": {
   "display_name": "Dev01",
   "language": "python",
   "name": "python3"
  },
  "language_info": {
   "codemirror_mode": {
    "name": "ipython",
    "version": 3
   },
   "file_extension": ".py",
   "mimetype": "text/x-python",
   "name": "python",
   "nbconvert_exporter": "python",
   "pygments_lexer": "ipython3",
   "version": "3.11.5"
  },
  "orig_nbformat": 4
 },
 "nbformat": 4,
 "nbformat_minor": 2
}
