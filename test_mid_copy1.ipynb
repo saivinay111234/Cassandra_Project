{
 "cells": [
  {
   "cell_type": "code",
   "execution_count": 1,
   "metadata": {},
   "outputs": [
    {
     "data": {
      "text/plain": [
       "4"
      ]
     },
     "execution_count": 1,
     "metadata": {},
     "output_type": "execute_result"
    }
   ],
   "source": [
    "for index, row in df.iterrows():\n",
    "    print(f\"\"\"\n",
    "        UPDATE w04python.student\n",
    "        SET\n",
    "            f_name = '{new_first_name}',\n",
    "            l_name = '{new_last_name}',\n",
    "            grade = {new_grade}\n",
    "        WHERE\n",
    "            student_id = {row.student_id} AND\n",
    "            course = '{row.course}';\n",
    "        \"\"\"\n",
    "    )\n",
    "    session.execute(f\"\"\"\n",
    "        UPDATE w04python.student\n",
    "        SET\n",
    "            f_name = '{new_first_name}',\n",
    "            l_name = '{new_last_name}',\n",
    "            grade = {new_grade}\n",
    "        WHERE\n",
    "            student_id = {row.student_id} AND\n",
    "            course = '{row.course}';\n",
    "        \"\"\"\n",
    "    )\n"
   ]
  },
  {
   "cell_type": "code",
   "execution_count": null,
   "metadata": {},
   "outputs": [],
   "source": [
    "for index, row in df.iterrows():\n",
    "    print(f\"\"\"\n",
    "        DELETE FROM w04python.student\n",
    "        WHERE\n",
    "            student_id = {row.student_id} AND\n",
    "            course = '{row.course}';\n",
    "        \"\"\"\n",
    "    )\n",
    "    session.execute(f\"\"\"\n",
    "        DELETE FROM w04python.student\n",
    "        WHERE\n",
    "            student_id = {row.student_id} AND\n",
    "            course = '{row.course}';\n",
    "        \"\"\"\n",
    "    )\n"
   ]
  }
 ],
 "metadata": {
  "kernelspec": {
   "display_name": "Python 3",
   "language": "python",
   "name": "python3"
  },
  "language_info": {
   "codemirror_mode": {
    "name": "ipython",
    "version": 3
   },
   "file_extension": ".py",
   "mimetype": "text/x-python",
   "name": "python",
   "nbconvert_exporter": "python",
   "pygments_lexer": "ipython3",
   "version": "3.11.5"
  }
 },
 "nbformat": 4,
 "nbformat_minor": 2
}
